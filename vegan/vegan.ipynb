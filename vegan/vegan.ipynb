{
 "cells": [
  {
   "cell_type": "code",
   "execution_count": null,
   "metadata": {},
   "outputs": [],
   "source": [
    "from gql import Client, gql\n",
    "from gql.transport.requests import RequestsHTTPTransport\n",
    "import numpy as np\n",
    "import pandas as pd"
   ]
  },
  {
   "cell_type": "code",
   "execution_count": null,
   "metadata": {},
   "outputs": [],
   "source": [
    "ACCESS_TOKEN = input(\"Enter your Yelp API access token: \")\n",
    "HEADERS = {\"Authorization\": \"Bearer \" + ACCESS_TOKEN}\n",
    "TRANSPORT = RequestsHTTPTransport(\n",
    "    url=\"https://api.yelp.com/v3/graphql\", headers=HEADERS)\n",
    "CLIENT = Client(transport=TRANSPORT, fetch_schema_from_transport=True)"
   ]
  },
  {
   "cell_type": "code",
   "execution_count": null,
   "metadata": {},
   "outputs": [],
   "source": [
    "def get_restaurants(categories, location, radius):\n",
    "    query = gql(\n",
    "        \"\"\"\n",
    "      {\n",
    "        search(categories: \"%s\",\n",
    "              location: \"%s\"\n",
    "              radius: %d) {\n",
    "          total\n",
    "        }\n",
    "      }\n",
    "  \"\"\"\n",
    "        % (categories, location, np.minimum(radius, 40_000)))\n",
    "\n",
    "    return CLIENT.execute(query)"
   ]
  },
  {
   "cell_type": "code",
   "execution_count": null,
   "metadata": {},
   "outputs": [],
   "source": [
    "df = pd.read_csv(\"../cities.csv\", index_col=[0, 1])\n",
    "\n",
    "data = pd.DataFrame(index=df.index)\n",
    "data[\"population\"] = df[\"2023 estimate\"]\n",
    "data[\"area\"] = pd.to_numeric(df[\"land area\"], errors=\"coerce\")\n",
    "\n",
    "# convert from sq mi to sq m, a = pi*r^2\n",
    "data[\"radius\"] = np.sqrt(data[\"area\"]*2589988.1103/np.pi)\n",
    "\n",
    "data.head()"
   ]
  },
  {
   "cell_type": "code",
   "execution_count": null,
   "metadata": {},
   "outputs": [],
   "source": [
    "data[\"restaurants\"] = 0\n",
    "\n",
    "for i, row in data.iterrows():\n",
    "    location = \"%s, %s\" % (i[0], i[1])\n",
    "    # print(location)\n",
    "    try:\n",
    "        result = get_restaurants(\"vegan\", location, row[\"radius\"])\n",
    "        data.loc[i, \"restaurants\"] = int(result[\"search\"][\"total\"])\n",
    "    except Exception as e:\n",
    "        print(e)"
   ]
  },
  {
   "cell_type": "code",
   "execution_count": null,
   "metadata": {},
   "outputs": [],
   "source": [
    "vegan = pd.read_csv(\"vegan.csv\", index_col=[0, 1])\n",
    "\n",
    "data[\"per_100k\"] = data[\"restaurants\"] / data[\"population\"] * 100_000\n",
    "\n",
    "chicago = data.loc[(\"Chicago\", \"IL\"), \"per_100k\"]\n",
    "data[\"score\"] = np.log2(data[\"per_100k\"] / chicago)\n",
    "\n",
    "data.sort_values(\"score\", ascending=False, inplace=True)"
   ]
  },
  {
   "cell_type": "code",
   "execution_count": null,
   "metadata": {},
   "outputs": [],
   "source": [
    "print(data.to_string())\n",
    "data.to_csv(\"vegan.csv\")"
   ]
  },
  {
   "cell_type": "code",
   "execution_count": null,
   "metadata": {},
   "outputs": [],
   "source": [
    "pd.to_numeric(data[\"population\"], errors=\"coerce\")"
   ]
  }
 ],
 "metadata": {
  "interpreter": {
   "hash": "e16305e020199e3a85384bebf19b5adfd4f5817fdb40a781676ef068ccecb4a1"
  },
  "kernelspec": {
   "display_name": "Python 3.8.10 ('schelling-out')",
   "language": "python",
   "name": "python3"
  },
  "language_info": {
   "codemirror_mode": {
    "name": "ipython",
    "version": 3
   },
   "file_extension": ".py",
   "mimetype": "text/x-python",
   "name": "python",
   "nbconvert_exporter": "python",
   "pygments_lexer": "ipython3",
   "version": "3.12.4"
  },
  "orig_nbformat": 4
 },
 "nbformat": 4,
 "nbformat_minor": 2
}
