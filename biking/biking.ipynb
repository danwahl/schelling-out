{
 "cells": [
  {
   "cell_type": "code",
   "execution_count": null,
   "metadata": {},
   "outputs": [],
   "source": [
    "import numpy as np\n",
    "import pandas as pd\n",
    "import re"
   ]
  },
  {
   "cell_type": "code",
   "execution_count": null,
   "metadata": {},
   "outputs": [],
   "source": [
    "# https://data.census.gov/cedsci/\n",
    "df = pd.read_csv(\n",
    "    \"ACSDT1Y2022.B08006_2024-09-08T001306/ACSDT1Y2022.B08006-Data.csv\", header=1, index_col=\"Geography\")\n",
    "\n",
    "data = pd.DataFrame(index=df.index)\n",
    "\n",
    "data[\"city\"] = df[\"Geographic Area Name\"]\n",
    "data[\"city\"] = data[\"city\"].apply(lambda x: re.sub(r\" [a-z]+(.+)?,\", \",\", x))\n",
    "data[\"city\"] = data[\"city\"].apply(lambda x: re.sub(r\" [A-Z]+?,\", \",\", x))\n",
    "data[\"city\"] = data[\"city\"].apply(lambda x: re.sub(r\"\\/(.+?),\", \",\", x))\n",
    "data[\"city\"] = data[\"city\"].apply(lambda x: re.sub(r\"\\-(.+?),\", \",\", x))\n",
    "\n",
    "data[\"bicycle\"] = df[\"Estimate!!Total:!!Bicycle\"].values\n",
    "# drop all rows where column bicycle is zero\n",
    "data.drop(data[data[\"bicycle\"] == 0].index, inplace=True)\n",
    "\n",
    "print(data.to_string())"
   ]
  },
  {
   "cell_type": "code",
   "execution_count": null,
   "metadata": {},
   "outputs": [],
   "source": [
    "df = pd.read_csv(\n",
    "    \"ACSST1Y2022.S0101_2024-09-08T001234/ACSST1Y2022.S0101-Data.csv\", header=1, index_col=\"Geography\")\n",
    "\n",
    "data[\"population\"] = df.loc[data.index,\n",
    "                            \"Estimate!!Total!!Total population\"]\n",
    "data[\"population\"] = pd.to_numeric(data[\"population\"], errors=\"coerce\")\n",
    "data.drop(data[data[\"population\"] < 50_000].index, inplace=True)\n",
    "print(data.to_string())"
   ]
  },
  {
   "cell_type": "code",
   "execution_count": null,
   "metadata": {},
   "outputs": [],
   "source": [
    "data[\"per_100k\"] = data[\"bicycle\"] / data[\"population\"] * 100_000\n",
    "data.dropna(inplace=True)\n",
    "\n",
    "chicago = data.loc[\"1600000US1714000\", \"per_100k\"]\n",
    "\n",
    "data[\"score\"] = (data[\"per_100k\"]/chicago).apply(np.log2)\n",
    "data.sort_values(by=\"score\", ascending=False, inplace=True)"
   ]
  },
  {
   "cell_type": "code",
   "execution_count": null,
   "metadata": {},
   "outputs": [],
   "source": [
    "print(data.to_string())\n",
    "data.to_csv(\"biking.csv\")"
   ]
  }
 ],
 "metadata": {
  "interpreter": {
   "hash": "e16305e020199e3a85384bebf19b5adfd4f5817fdb40a781676ef068ccecb4a1"
  },
  "kernelspec": {
   "display_name": "Python 3.8.10 ('schelling-out')",
   "language": "python",
   "name": "python3"
  },
  "language_info": {
   "codemirror_mode": {
    "name": "ipython",
    "version": 3
   },
   "file_extension": ".py",
   "mimetype": "text/x-python",
   "name": "python",
   "nbconvert_exporter": "python",
   "pygments_lexer": "ipython3",
   "version": "3.12.4"
  },
  "orig_nbformat": 4
 },
 "nbformat": 4,
 "nbformat_minor": 2
}
