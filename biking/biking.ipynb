{
 "cells": [
  {
   "cell_type": "code",
   "execution_count": null,
   "metadata": {},
   "outputs": [],
   "source": [
    "import numpy as np\n",
    "import pandas as pd\n",
    "import re\n"
   ]
  },
  {
   "cell_type": "code",
   "execution_count": null,
   "metadata": {},
   "outputs": [],
   "source": [
    "# https://data.census.gov/cedsci/\n",
    "df = pd.read_csv(\n",
    "    \"ACSDT5Y2020.B08006_2022-04-05T233519/ACSDT5Y2020.B08006_data_with_overlays_2022-03-18T113810.csv\", header=1, index_col=\"id\")\n",
    "\n",
    "data = pd.DataFrame(index=df.index)\n",
    "\n",
    "data[\"city\"] = df[\"Geographic Area Name\"]\n",
    "data[\"city\"] = data[\"city\"].apply(lambda x: re.sub(r\" [a-z]+(.+)?,\", \",\", x))\n",
    "data[\"city\"] = data[\"city\"].apply(lambda x: re.sub(r\" [A-Z]+?,\", \",\", x))\n",
    "data[\"city\"] = data[\"city\"].apply(lambda x: re.sub(r\"\\/(.+?),\", \",\", x))\n",
    "data[\"city\"] = data[\"city\"].apply(lambda x: re.sub(r\"\\-(.+?),\", \",\", x))\n",
    "\n",
    "data[\"bicycle\"] = df[\"Estimate!!Total:!!Bicycle\"].values\n",
    "# drop all rows where column bicycle is zero\n",
    "data.drop(data[data[\"bicycle\"] == 0].index, inplace=True)\n",
    "\n",
    "# data.loc[\"1600000US4752006\", \"city\"] = \"Nashville, Tennessee\"\n",
    "# data.loc[\"1600000US2148006\", \"city\"] = \"Louisville, Kentucky\"\n",
    "# data.loc[\"1600000US1571550\", \"city\"] = \"Honolulu, Hawaii\"\n",
    "# data.loc[\"1600000US2146027\", \"city\"] = \"Lexington, Kentucky\"\n",
    "# data.loc[\"1600000US1608830\", \"city\"] = \"Boise, Idaho\"\n",
    "# data.loc[\"1600000US1304204\", \"city\"] = \"Augusta, Georgia\"\n",
    "\n",
    "print(data.to_string())\n"
   ]
  },
  {
   "cell_type": "code",
   "execution_count": null,
   "metadata": {},
   "outputs": [],
   "source": [
    "df = pd.read_csv(\n",
    "    \"ACSST5Y2020.S0101_2022-04-07T201744/ACSST5Y2020.S0101_data_with_overlays_2022-03-24T112908.csv\", header=1, index_col=\"id\")\n",
    "\n",
    "data[\"population\"] = df.loc[data.index,\n",
    "                            \"Estimate!!Total!!Total population\"].values\n",
    "data.drop(data[data[\"population\"] < 50_000].index, inplace=True)\n"
   ]
  },
  {
   "cell_type": "code",
   "execution_count": null,
   "metadata": {},
   "outputs": [],
   "source": [
    "data[\"per_100k\"] = data[\"bicycle\"] / data[\"population\"] * 100_000\n",
    "data.dropna(inplace=True)\n",
    "\n",
    "chicago = data.loc[\"1600000US1714000\", \"per_100k\"]\n",
    "\n",
    "data[\"score\"] = (data[\"per_100k\"]/chicago).apply(np.log2)\n",
    "data.sort_values(by=\"score\", ascending=False, inplace=True)\n"
   ]
  },
  {
   "cell_type": "code",
   "execution_count": null,
   "metadata": {},
   "outputs": [],
   "source": [
    "print(data.to_string())\n",
    "data.to_csv(\"biking.csv\")\n"
   ]
  },
  {
   "cell_type": "code",
   "execution_count": null,
   "metadata": {},
   "outputs": [],
   "source": []
  }
 ],
 "metadata": {
  "interpreter": {
   "hash": "e16305e020199e3a85384bebf19b5adfd4f5817fdb40a781676ef068ccecb4a1"
  },
  "kernelspec": {
   "display_name": "Python 3.8.10 ('schelling-out')",
   "language": "python",
   "name": "python3"
  },
  "language_info": {
   "codemirror_mode": {
    "name": "ipython",
    "version": 3
   },
   "file_extension": ".py",
   "mimetype": "text/x-python",
   "name": "python",
   "nbconvert_exporter": "python",
   "pygments_lexer": "ipython3",
   "version": "3.8.10"
  },
  "orig_nbformat": 4
 },
 "nbformat": 4,
 "nbformat_minor": 2
}
