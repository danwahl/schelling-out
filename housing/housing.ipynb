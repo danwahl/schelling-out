{
 "cells": [
  {
   "cell_type": "code",
   "execution_count": null,
   "metadata": {},
   "outputs": [],
   "source": [
    "import numpy as np\n",
    "import pandas as pd"
   ]
  },
  {
   "cell_type": "code",
   "execution_count": null,
   "metadata": {},
   "outputs": [],
   "source": [
    "# https://www.zillow.com/research/data/\n",
    "df = pd.read_csv(\n",
    "    \"City_zhvi_bdrmcnt_2_uc_sfrcondo_tier_0.33_0.67_sm_sa_month.csv\", index_col=0)\n",
    "\n",
    "data = pd.DataFrame(index=df.index)\n",
    "data[\"size\"] = df[\"SizeRank\"]\n",
    "data[\"city\"] = df[\"RegionName\"]\n",
    "data[\"state\"] = df[\"StateName\"]\n",
    "data[\"zhvi\"] = df[df.columns[-1]]\n",
    "\n",
    "data.drop(data[data[\"size\"] > 500].index, inplace=True)"
   ]
  },
  {
   "cell_type": "code",
   "execution_count": null,
   "metadata": {},
   "outputs": [],
   "source": [
    "chicago = data.loc[17426, \"zhvi\"]\n",
    "\n",
    "data[\"score\"] = -(data[\"zhvi\"]/chicago).apply(np.log2)\n",
    "data.sort_values(by=\"score\", ascending=False, inplace=True)"
   ]
  },
  {
   "cell_type": "code",
   "execution_count": null,
   "metadata": {},
   "outputs": [],
   "source": [
    "print(data.to_string())\n",
    "data.to_csv(\"housing.csv\")"
   ]
  }
 ],
 "metadata": {
  "interpreter": {
   "hash": "e16305e020199e3a85384bebf19b5adfd4f5817fdb40a781676ef068ccecb4a1"
  },
  "kernelspec": {
   "display_name": "Python 3.8.10 ('schelling-out')",
   "language": "python",
   "name": "python3"
  },
  "language_info": {
   "codemirror_mode": {
    "name": "ipython",
    "version": 3
   },
   "file_extension": ".py",
   "mimetype": "text/x-python",
   "name": "python",
   "nbconvert_exporter": "python",
   "pygments_lexer": "ipython3",
   "version": "3.12.4"
  },
  "orig_nbformat": 4
 },
 "nbformat": 4,
 "nbformat_minor": 2
}
