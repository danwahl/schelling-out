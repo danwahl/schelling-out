{
 "cells": [
  {
   "cell_type": "code",
   "execution_count": null,
   "metadata": {},
   "outputs": [],
   "source": [
    "import matplotlib.pyplot as plt\n",
    "import numpy as np\n",
    "import pandas as pd"
   ]
  },
  {
   "cell_type": "code",
   "execution_count": null,
   "metadata": {},
   "outputs": [],
   "source": [
    "index = pd.read_csv(\"index.csv\", index_col=[0, 1])\n",
    "\n",
    "index.dropna(inplace=True)\n",
    "index.drop(index[index[\"housing\"] == 0].index, inplace=True)"
   ]
  },
  {
   "cell_type": "code",
   "execution_count": null,
   "metadata": {},
   "outputs": [],
   "source": [
    "biking = pd.read_csv(\"biking/biking.csv\", index_col=0)\n",
    "housing = pd.read_csv(\"housing/housing.csv\", index_col=0)\n",
    "vegan = pd.read_csv(\"vegan/vegan.csv\", index_col=[0, 1])\n",
    "weather = pd.read_csv(\"weather/weather.csv\", index_col=[0])\n",
    "\n",
    "data = pd.DataFrame(index=index.index)\n",
    "data[\"biking\"] = biking.loc[index[\"biking\"], \"per_100k\"].values\n",
    "data[\"housing\"] = housing.loc[index[\"housing\"], \"zhvi\"].values\n",
    "data[\"vegan\"] = vegan[\"per_100k\"]\n",
    "data[\"winter\"] = weather.loc[index[\"weather\"].astype(\"str\"), \"winter\"].values\n",
    "data[\"summer\"] = weather.loc[index[\"weather\"].astype(\"str\"), \"summer\"].values\n",
    "data.head()"
   ]
  },
  {
   "cell_type": "code",
   "execution_count": null,
   "metadata": {},
   "outputs": [],
   "source": [
    "print(data.to_string())\n",
    "data.to_csv(\"data.csv\")"
   ]
  },
  {
   "cell_type": "code",
   "execution_count": null,
   "metadata": {},
   "outputs": [],
   "source": [
    "chicago = data.loc[(\"Chicago\", \"Illinois\")]\n",
    "\n",
    "weights = {\n",
    "    \"biking\": 1,\n",
    "    \"housing\": -1,\n",
    "    \"vegan\": 1,\n",
    "    \"winter\": 0.5,\n",
    "    \"summer\": 0.5,\n",
    "}\n",
    "\n",
    "scores = data\n",
    "scores = scores.apply(lambda x: (x/chicago).apply(np.log2), axis=1)\n",
    "scores *= weights"
   ]
  },
  {
   "cell_type": "code",
   "execution_count": null,
   "metadata": {},
   "outputs": [],
   "source": [
    "chicago = scores.loc[(\"Chicago\", \"Illinois\")]\n",
    "\n",
    "scores[\"total\"] = scores[[\"biking\", \"housing\",\n",
    "                          \"vegan\", \"winter\", \"summer\"]].mean(axis=1)\n",
    "scores.sort_values(\"total\", ascending=False, inplace=True)"
   ]
  },
  {
   "cell_type": "code",
   "execution_count": null,
   "metadata": {},
   "outputs": [],
   "source": [
    "scores = scores.replace([np.inf, -np.inf], np.nan).dropna()\n",
    "print(scores.to_string())\n",
    "scores.to_csv(\"scores.csv\")"
   ]
  },
  {
   "cell_type": "code",
   "execution_count": null,
   "metadata": {},
   "outputs": [],
   "source": [
    "fig, ax = plt.subplots(1, 1, figsize=(12, 8))\n",
    "ax.plot(scores[\"housing\"], scores[[\"biking\", \"vegan\", \"winter\", \"summer\"]].mean(axis=1), \"o\")\n",
    "ax.set_xlabel(\"housing\")\n",
    "ax.set_ylabel(\"biking + vegan + winter\")\n",
    "ax.grid()"
   ]
  },
  {
   "cell_type": "code",
   "execution_count": null,
   "metadata": {},
   "outputs": [],
   "source": [
    "scores.corr()"
   ]
  }
 ],
 "metadata": {
  "interpreter": {
   "hash": "e16305e020199e3a85384bebf19b5adfd4f5817fdb40a781676ef068ccecb4a1"
  },
  "kernelspec": {
   "display_name": "Python 3.8.10 ('schelling-out')",
   "language": "python",
   "name": "python3"
  },
  "language_info": {
   "codemirror_mode": {
    "name": "ipython",
    "version": 3
   },
   "file_extension": ".py",
   "mimetype": "text/x-python",
   "name": "python",
   "nbconvert_exporter": "python",
   "pygments_lexer": "ipython3",
   "version": "3.12.4"
  },
  "orig_nbformat": 4
 },
 "nbformat": 4,
 "nbformat_minor": 2
}
