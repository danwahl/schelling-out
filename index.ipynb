{
 "cells": [
  {
   "cell_type": "code",
   "execution_count": null,
   "metadata": {},
   "outputs": [],
   "source": [
    "from difflib import SequenceMatcher\n",
    "from geopy.distance import geodesic\n",
    "import pandas as pd"
   ]
  },
  {
   "cell_type": "code",
   "execution_count": null,
   "metadata": {},
   "outputs": [],
   "source": [
    "# https://en.wikipedia.org/wiki/List_of_United_States_cities_by_population\n",
    "cities = pd.read_csv(\"cities.csv\", index_col=[0, 1])\n",
    "\n",
    "index = pd.DataFrame(index=cities.index)"
   ]
  },
  {
   "cell_type": "code",
   "execution_count": null,
   "metadata": {},
   "outputs": [],
   "source": [
    "biking = pd.read_csv(\"biking/biking.csv\", index_col=0)\n",
    "\n",
    "index[\"biking\"] = None\n",
    "\n",
    "for i, row in cities.iterrows():\n",
    "    city_state = \"{}, {}\".format(i[0], i[1])\n",
    "\n",
    "    matches = biking[\"city\"].apply(lambda x: SequenceMatcher(\n",
    "        None, x, city_state).ratio()).sort_values(ascending=False)\n",
    "\n",
    "    df = pd.DataFrame(biking.loc[matches.index, \"city\"])\n",
    "    df[\"match\"] = matches\n",
    "    df.reset_index(inplace=True)\n",
    "\n",
    "    if len(df) > 0:\n",
    "        if df.loc[0, \"match\"] > 0.75:\n",
    "            index.loc[i, \"biking\"] = df.loc[0, \"Geography\"]\n",
    "\n",
    "    # if index.loc[city, \"biking\"] is None:\n",
    "    #     print(\"{} not found\".format(city_state))\n",
    "    #     print(df.iloc[:5])"
   ]
  },
  {
   "cell_type": "code",
   "execution_count": null,
   "metadata": {},
   "outputs": [],
   "source": [
    "housing = pd.read_csv(\"housing/housing.csv\", index_col=0)\n",
    "\n",
    "index[\"housing\"] = 0\n",
    "\n",
    "for i, row in cities.iterrows():\n",
    "    matches = housing[\"city\"].apply(lambda x: SequenceMatcher(\n",
    "        None, x, i[0]).ratio()).sort_values(ascending=False)\n",
    "\n",
    "    df = housing.loc[matches.index, [\"city\", \"state\"]]\n",
    "    df.drop(df[df[\"state\"] != row[\"abbrev\"]].index, inplace=True)\n",
    "    df[\"match\"] = matches\n",
    "    df.reset_index(inplace=True)\n",
    "\n",
    "    if len(df) > 0:\n",
    "        if df.loc[0, \"match\"] > 0.75:\n",
    "            index.loc[i, \"housing\"] = df.loc[0, \"RegionID\"]\n",
    "\n",
    "index.head()"
   ]
  },
  {
   "cell_type": "code",
   "execution_count": null,
   "metadata": {},
   "outputs": [],
   "source": [
    "weather = pd.read_csv(\"weather/weather.csv\", index_col=0)\n",
    "\n",
    "index[\"weather\"] = None\n",
    "\n",
    "for i, row in cities.iterrows():\n",
    "    df = weather.apply(lambda x: geodesic(\n",
    "        (x[\"latitude\"], x[\"longitude\"]), (row[\"latitude\"], row[\"longitude\"])).miles, axis=1)\n",
    "    df.sort_values(inplace=True)\n",
    "\n",
    "    if df.iloc[0] < 15:\n",
    "        index.loc[i, \"weather\"] = df.index[0]\n",
    "\n",
    "    if index.loc[i, \"weather\"] is None:\n",
    "        print(\"{}, {} not found\".format(i[0], i[1]))\n",
    "        print(df.iloc[:5])"
   ]
  },
  {
   "cell_type": "code",
   "execution_count": null,
   "metadata": {},
   "outputs": [],
   "source": [
    "print(index.to_string())\n",
    "index.dropna().to_csv(\"index.csv\")"
   ]
  }
 ],
 "metadata": {
  "interpreter": {
   "hash": "e16305e020199e3a85384bebf19b5adfd4f5817fdb40a781676ef068ccecb4a1"
  },
  "kernelspec": {
   "display_name": "Python 3.8.10 ('schelling-out')",
   "language": "python",
   "name": "python3"
  },
  "language_info": {
   "codemirror_mode": {
    "name": "ipython",
    "version": 3
   },
   "file_extension": ".py",
   "mimetype": "text/x-python",
   "name": "python",
   "nbconvert_exporter": "python",
   "pygments_lexer": "ipython3",
   "version": "3.12.4"
  },
  "orig_nbformat": 4
 },
 "nbformat": 4,
 "nbformat_minor": 2
}
